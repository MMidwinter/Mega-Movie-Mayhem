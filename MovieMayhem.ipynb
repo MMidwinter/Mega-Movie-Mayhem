{
 "cells": [
  {
   "cell_type": "code",
   "execution_count": null,
   "metadata": {},
   "outputs": [],
   "source": [
    "#This is for the Movie Mayhem Project!"
   ]
  },
  {
   "cell_type": "code",
   "execution_count": null,
   "metadata": {},
   "outputs": [],
   "source": [
    "#This is for loading the modules we want to use for the project.\n",
    "import matplotlib.pyplot as plt\n",
    "import pandas as pd\n",
    "import numpy as np\n",
    "import scipy.stats as stats "
   ]
  },
  {
   "cell_type": "code",
   "execution_count": null,
   "metadata": {},
   "outputs": [],
   "source": [
    "#This is for loading the CSV and parsing into a DF\n",
    "movie_dataset = pd.read_csv(\"MoviesOnStreamingPlatforms_updated.csv\")\n",
    "movie_dataset"
   ]
  },
  {
   "cell_type": "code",
   "execution_count": null,
   "metadata": {},
   "outputs": [],
   "source": [
    "movie_dataset = movie_dataset.set_index('ID')\n",
    "movie_dataset = movie_dataset.drop(['Unnamed: 0', 'Type'], axis=1)\n",
    "\n",
    "#Checked to see how many rows would be lost with dropping movies withour Rotten Tomatoe scores, \n",
    "#we saw it would reduce our dataset by about 11,000 rows and decided to utilize just IMDb\n",
    "\n",
    "movie_dataset = movie_dataset.drop(['Rotten Tomatoes'], axis=1)\n",
    "movie_dataset"
   ]
  },
  {
   "cell_type": "code",
   "execution_count": null,
   "metadata": {},
   "outputs": [],
   "source": [
    "# This block is for the team's questions"
   ]
  },
  {
   "cell_type": "markdown",
   "metadata": {},
   "source": [
    "<b>Question:</b> Do movies aimed at 18+ age have a higher IMDB rating?"
   ]
  },
  {
   "cell_type": "code",
   "execution_count": null,
   "metadata": {},
   "outputs": [],
   "source": [
    "#Cleaning the data for the age analysis\n",
    "movie_dataset_age_data = movie_dataset.copy()\n",
    "movie_dataset_age_data_clean = movie_dataset_age_data.dropna(subset=['Age', 'IMDb'])\n",
    "movie_dataset_age_data_clean"
   ]
  },
  {
   "cell_type": "code",
   "execution_count": null,
   "metadata": {},
   "outputs": [],
   "source": [
    "# Creating column to compare over 18 vs under 18 movies\n",
    "movie_dataset_age_data_clean['Age Range'] = np.where(movie_dataset_age_data_clean['Age'] == '18+', '18+', 'Under 18')\n",
    "\n",
    "# Didn't end up needed group by had to parse out data seperately\n",
    "movie_dataset_age_data_clean_groupby = movie_dataset_age_data_clean.groupby('Age Range')[['IMDb']].mean()\n",
    "movie_dataset_age_data_clean_groupby\n",
    "\n",
    "\n",
    "over_18 = movie_dataset_age_data_clean.loc[movie_dataset_age_data_clean['Age Range'] == '18+', 'IMDb']\n",
    "under_18 = movie_dataset_age_data_clean.loc[movie_dataset_age_data_clean['Age Range'] != '18+', 'IMDb']\n"
   ]
  },
  {
   "cell_type": "code",
   "execution_count": null,
   "metadata": {},
   "outputs": [],
   "source": [
    "# Checking for outliers in Age Range data\n",
    "\n",
    "age_range_data = [over_18, under_18]\n",
    "\n",
    "fig1, ax1 = plt.subplots()\n",
    "ax1.set_xticklabels(['Over 18', 'Under 18'])\n",
    "ax1.set_ylabel(\"IMDb Rating\")\n",
    "ax1.set_title(\"Movie Ratings by Age Range\")\n",
    "ax1.boxplot(age_range_data, 0, '*')\n",
    "plt.show()\n",
    "\n",
    "print(\"Based on the boxplot we've uncovered many outliers among both age ranges.\") \n",
    "print('We will run a two Hypothesis test. 1 including outliers and 1 not including outliers')\n",
    "\n"
   ]
  },
  {
   "cell_type": "code",
   "execution_count": null,
   "metadata": {},
   "outputs": [],
   "source": [
    "# First Age Range Hypothesis Test\n",
    "\n",
    "# Null Hypothesis: There is no difference in IMDb ratings based on age\n",
    "\n",
    "print('Our hypothesis is that under 18 will have higher ratings then over 18')\n",
    "\n",
    "print('We construct a null hypothesis that states there is no difference in ratings based on age')\n",
    "\n",
    "print(\"We test this null hypothesis with a Student's t-test\")\n",
    "\n",
    "\n",
    "print('p-value: ' +str(stats.ttest_ind(over_18, under_18, equal_var=False)[1]))\n",
    "\n",
    "print('----------------------------------')\n",
    "\n",
    "print('Based on the p-value, we see that the difference in ratings is statistically significant.')\n",
    "\n",
    "print('We now believe under 18 IMDb ratings are higher than Over 18')\n",
    "\n",
    "# Increases our confidence that under 18 has higher ratings then over 18\n",
    "                "
   ]
  },
  {
   "cell_type": "code",
   "execution_count": null,
   "metadata": {},
   "outputs": [],
   "source": [
    "# Second Age Range Hypothesis Test, removing outliers\n",
    "\n",
    "over_18_quartiles = over_18.quantile([.25,.5,.75])\n",
    "over_18_lowerq = over_18_quartiles[0.25]\n",
    "over_18_upperq = over_18_quartiles[0.75]\n",
    "over_18_iqr = over_18_upperq-over_18_lowerq\n",
    "\n",
    "over_18_lower_bound = over_18_lowerq - (1.5*over_18_iqr)\n",
    "over_18_upper_bound = over_18_upperq + (1.5*over_18_iqr)\n",
    "\n",
    "over_18_df = over_18.to_frame()\n",
    "\n",
    "\n",
    "filtered_over18_df = over_18_df.loc[(over_18_df['IMDb'] >= over_18_lower_bound) & (over_18_df['IMDb'] <= over_18_upper_bound)]\n",
    "\n",
    "filtered_over18_df.head()"
   ]
  },
  {
   "cell_type": "code",
   "execution_count": null,
   "metadata": {},
   "outputs": [],
   "source": [
    "# Second Age Range Hypothesis Test, removing outliers\n",
    "under_18_quartiles = under_18.quantile([.25,.5,.75])\n",
    "under_18_lowerq = under_18_quartiles[0.25]\n",
    "under_18_upperq = under_18_quartiles[0.75]\n",
    "under_18_iqr = under_18_upperq-under_18_lowerq\n",
    "\n",
    "under_18_lower_bound = under_18_lowerq - (1.5*under_18_iqr)\n",
    "under_18_upper_bound = under_18_upperq + (1.5*under_18_iqr)\n",
    "\n",
    "#print(over_18_lower_bound)\n",
    "#print(over_18_upper_bound)\n",
    "\n",
    "#print(type(over_18))\n",
    "\n",
    "under_18_df = under_18.to_frame()\n",
    "\n",
    "\n",
    "filtered_under18_df = under_18_df.loc[(under_18_df['IMDb'] >= under_18_lower_bound) & (under_18_df['IMDb'] <= under_18_upper_bound)]\n",
    "\n",
    "filtered_under18_df.head()"
   ]
  },
  {
   "cell_type": "code",
   "execution_count": null,
   "metadata": {},
   "outputs": [],
   "source": [
    "# Second Age Range Hypothesis Test\n",
    "\n",
    "# Null Hypothesis: There is no difference in IMDb ratings based on age\n",
    "\n",
    "print('Our hypothesis is that under 18 will have higher ratings then over 18')\n",
    "\n",
    "print('We construct a null hypothesis that states there is no difference in ratings based on age')\n",
    "\n",
    "print(\"We test this null hypothesis with a Student's t-test\")\n",
    "\n",
    "\n",
    "print('p-value: ' +str(stats.ttest_ind(filtered_over18_df, filtered_under18_df, equal_var=False)[1]))\n",
    "\n",
    "print('----------------------------------')\n",
    "\n",
    "print('Based on the p-value, we see that the difference in ratings is statistically significant.')\n",
    "\n",
    "print('We now believe under 18 IMDb ratings are higher than Over 18')\n",
    "\n",
    "# Increases our confidence that under 18 has higher ratings then over 18\n",
    "                "
   ]
  },
  {
   "cell_type": "code",
   "execution_count": null,
   "metadata": {},
   "outputs": [],
   "source": []
  },
  {
   "cell_type": "code",
   "execution_count": null,
   "metadata": {},
   "outputs": [],
   "source": [
    "#This block is for Robertos Code"
   ]
  },
  {
   "cell_type": "code",
   "execution_count": null,
   "metadata": {},
   "outputs": [],
   "source": [
    "roberto_dataset = movie_dataset.copy()"
   ]
  },
  {
   "cell_type": "code",
   "execution_count": null,
   "metadata": {},
   "outputs": [],
   "source": []
  },
  {
   "cell_type": "code",
   "execution_count": null,
   "metadata": {},
   "outputs": [],
   "source": [
    "#This block is for Tanners code"
   ]
  },
  {
   "cell_type": "markdown",
   "metadata": {},
   "source": [
    "<b>Question:</b> Do movies on multiple streaming platforms have higher IMDb ratings?\n"
   ]
  },
  {
   "cell_type": "code",
   "execution_count": null,
   "metadata": {},
   "outputs": [],
   "source": [
    "platforms_df = movie_dataset.copy()\n",
    "\n",
    "platforms_df['No. Streaming Platforms'] = platforms_df['Netflix']+platforms_df['Hulu']+platforms_df['Disney+']+platforms_df['Prime Video']\n",
    "platforms_df['Multiple Steaming Platforms'] = np.where(platforms_df['No. Streaming Platforms'] == 1, 'One Platform', 'Multiple Platforms')\n",
    "\n",
    "platforms_groupby = platforms_df.groupby('Multiple Steaming Platforms')[['IMDb']].mean()\n",
    "\n",
    "\n",
    "platforms_groupby.plot(kind='bar', rot=.1)\n",
    "plt.title('Do Movies on Multiple Streaming Platforms Having Higher IMDb Ratings?')\n",
    "plt.ylabel('IMDb')\n",
    "plt.xlabel('# of Streaming Platforms')\n",
    "plt.ylim(0,10)\n",
    "\n",
    "plt.show()\n",
    "\n",
    "print(platforms_groupby)\n",
    "\n",
    "\n",
    "#### NOTES ####\n",
    "\n",
    "# Based on this graph it's looking like there's not a huge difference in rating if movies \n",
    "# have been on multiple platforms vs just one\n",
    "\n",
    "# Could be interesting to add a couple graphs by Popular Genres to see if that makes any difference\n",
    "\n"
   ]
  },
  {
   "cell_type": "code",
   "execution_count": null,
   "metadata": {},
   "outputs": [],
   "source": []
  },
  {
   "cell_type": "code",
   "execution_count": null,
   "metadata": {},
   "outputs": [],
   "source": [
    "#This block is for Davids code\n",
    "# Which streaming platform has the highest average ratings?\n",
    "# dropping NAN's from IMDb column to allow data to be worked.\n",
    "stream_dataset = movie_dataset.copy()\n",
    "stream_dataset_clean = stream_dataset.dropna(subset=['IMDb'])\n",
    "disney_df = stream_dataset_clean.loc[stream_dataset_clean[\"Disney+\"] == 1, :]\n",
    "disney_clean = stream_dataset_clean.loc[stream_dataset_clean['Disney+'] == 1, 'IMDb']\n",
    "disney_avg = disney_df[\"IMDb\"].mean()\n",
    "netflix_df = stream_dataset_clean.loc[stream_dataset_clean[\"Netflix\"] == 1, :]\n",
    "netflix_clean = stream_dataset_clean.loc[stream_dataset_clean['Netflix'] == 1, 'IMDb']\n",
    "netflix_avg = netflix_df[\"IMDb\"].mean()\n",
    "hulu_df = stream_dataset_clean.loc[stream_dataset_clean[\"Hulu\"] == 1, :]\n",
    "hulu_clean = stream_dataset_clean.loc[stream_dataset_clean['Hulu'] == 1, 'IMDb']\n",
    "hulu_avg = hulu_df[\"IMDb\"].mean()\n",
    "prime_df = stream_dataset_clean.loc[stream_dataset_clean[\"Prime Video\"] == 1, :]\n",
    "prime_clean = stream_dataset_clean.loc[stream_dataset_clean['Prime Video'] == 1, 'IMDb']\n",
    "prime_avg = prime_df[\"IMDb\"].mean()\n",
    "\n",
    "Services = [\"Disney+\", \"Netflix\", \"Hulu\", \"Prime Video\"]\n",
    "services_avg = [disney_avg, netflix_avg, hulu_avg, prime_avg]\n",
    "x_axis = np.arange(len(services_avg))"
   ]
  },
  {
   "cell_type": "code",
   "execution_count": null,
   "metadata": {},
   "outputs": [],
   "source": [
    "plt.bar(x_axis, services_avg, color=\"b\", align=\"center\")\n",
    "plt.xlim(-0.75, len(x_axis)-0.25)\n",
    "plt.ylim(4, 8)\n",
    "plt.title(\"Streaming Services Average IMDb Ratings\")\n",
    "plt.xlabel(\"Streaming Service\")\n",
    "plt.ylabel(\"IMDb Rating\")\n",
    "tick_locations = [value for value in x_axis]\n",
    "plt.xticks(tick_locations, Services)\n",
    "plt.locator_params(axis='y', nbins=10)\n",
    "plt.grid(linestyle='--')"
   ]
  },
  {
   "cell_type": "code",
   "execution_count": null,
   "metadata": {},
   "outputs": [],
   "source": [
    "services_data = [disney_clean, netflix_clean, hulu_clean, prime_clean]\n",
    "\n",
    "fig1, ax1 = plt.subplots()\n",
    "ax1.set_xticklabels(['Disney+', 'Netflix', 'Hulu', 'Prime Video'])\n",
    "ax1.set_ylabel(\"IMDb Rating\")\n",
    "ax1.set_title(\"Movie Ratings by Streaming Service\")\n",
    "ax1.boxplot(services_data, 0, '*')\n",
    "plt.show()\n",
    "# Showing that Disney+ had the highest rating, but if outliers where removed then a different service might have a higer Mean IMDb score."
   ]
  },
  {
   "cell_type": "code",
   "execution_count": null,
   "metadata": {},
   "outputs": [],
   "source": [
    "#This block is for Matts code"
   ]
  },
  {
   "cell_type": "code",
   "execution_count": null,
   "metadata": {},
   "outputs": [],
   "source": [
    "matts_dataset = movie_dataset.copy()"
   ]
  },
  {
   "cell_type": "code",
   "execution_count": null,
   "metadata": {},
   "outputs": [],
   "source": []
  },
  {
   "cell_type": "code",
   "execution_count": null,
   "metadata": {},
   "outputs": [],
   "source": []
  }
 ],
 "metadata": {
  "kernelspec": {
   "display_name": "Python 3",
   "language": "python",
   "name": "python3"
  },
  "language_info": {
   "codemirror_mode": {
    "name": "ipython",
    "version": 3
   },
   "file_extension": ".py",
   "mimetype": "text/x-python",
   "name": "python",
   "nbconvert_exporter": "python",
   "pygments_lexer": "ipython3",
   "version": "3.6.10"
  }
 },
 "nbformat": 4,
 "nbformat_minor": 4
}
